{
 "cells": [
  {
   "cell_type": "markdown",
   "metadata": {},
   "source": [
    "## Background - Perceptron\n",
    "\n",
    "### Biological Neuron vs Perceptron\n",
    "<img src=\"images/bio_neuron.png\" alt=\"Drawing\" style=\"width: 400px;\"/>\n",
    "Source : https://appliedgo.net/perceptron/\n",
    "\n",
    "Just like a biological neuron has dendrites to receive signals, a cell body to process them, and an axon to send signals out to other neurons, the artificial neuron has a number of input channels, a processing stage, and one output that can fan out to multiple other artificial neurons.\n",
    "\n",
    "<img src=\"images/neuron.png\" alt=\"Drawing\" style=\"width: 500px;\"/>\n",
    "\n",
    "<img src=\"images/artificial_neuron.png\" alt=\"Drawing\" style=\"width: 500px;\"/> \n",
    "Source: https://www.doc.ic.ac.uk/~nd/surprise_96/journal/vol4/cs11/report.html\n",
    "\n",
    "An artificial neuron is a device with many inputs and one output. The neuron has two modes of operation; the training mode and the using mode. In the training mode, the neuron can be trained to fire (or not), for particular input patterns. In the using mode, when a taught input pattern is detected at the input, its associated output becomes the current output. If the input pattern does not belong in the taught list of input patterns, the firing rule is used to determine whether to fire or not.\n"
   ]
  },
  {
   "cell_type": "markdown",
   "metadata": {},
   "source": [
    "\n",
    "## Basics of Linear Algebra\n",
    "\n",
    "###  Power of numpy  \n",
    "\n"
   ]
  },
  {
   "cell_type": "markdown",
   "metadata": {},
   "source": [
    "## Implement XOR function \n",
    "\n",
    "<img src=\"images/XOR_gate.png\" alt=\"Drawing\" style=\"width: 400px;\"/>\n",
    "\n",
    "<img src=\"images/XOR_table.png\" alt=\"Drawing\" style=\"width: 600px;\"/>\n",
    "\n",
    "Source: http://toritris.weebly.com/perceptron-5-xor-how--why-neurons-work-together.html\n",
    "\n"
   ]
  },
  {
   "cell_type": "code",
   "execution_count": null,
   "metadata": {
    "collapsed": true
   },
   "outputs": [],
   "source": []
  }
 ],
 "metadata": {
  "anaconda-cloud": {},
  "kernelspec": {
   "display_name": "Python [conda root]",
   "language": "python",
   "name": "conda-root-py"
  },
  "language_info": {
   "codemirror_mode": {
    "name": "ipython",
    "version": 2
   },
   "file_extension": ".py",
   "mimetype": "text/x-python",
   "name": "python",
   "nbconvert_exporter": "python",
   "pygments_lexer": "ipython2",
   "version": "2.7.13"
  }
 },
 "nbformat": 4,
 "nbformat_minor": 2
}
